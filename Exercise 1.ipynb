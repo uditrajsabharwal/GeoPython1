{
 "cells": [
  {
   "cell_type": "markdown",
   "id": "e09d600a",
   "metadata": {},
   "source": [
    "<h1> Exercise for Geo-Python </h1>"
   ]
  },
  {
   "cell_type": "markdown",
   "id": "0c397963",
   "metadata": {},
   "source": [
    "<h3> Defining some variable </h3> "
   ]
  },
  {
   "cell_type": "code",
   "execution_count": null,
   "id": "c287426d",
   "metadata": {},
   "outputs": [],
   "source": [
    "ice_cream_rating = 2\n",
    "sleeping_rating = 5\n",
    "print ('ice cream rating is', ice_cream_rating, '&', 'sleeping rate is', sleeping_rating)"
   ]
  },
  {
   "cell_type": "markdown",
   "id": "d5652d9d",
   "metadata": {},
   "source": [
    "<h3> Reading in Variable Values </h3> "
   ]
  },
  {
   "cell_type": "code",
   "execution_count": 10,
   "id": "15117c01",
   "metadata": {
    "scrolled": true
   },
   "outputs": [
    {
     "name": "stdout",
     "output_type": "stream",
     "text": [
      "enter first name\n",
      "udit\n"
     ]
    }
   ],
   "source": [
    "print ('enter first name')\n",
    "first_name = input()"
   ]
  },
  {
   "cell_type": "code",
   "execution_count": 11,
   "id": "2ce950c8",
   "metadata": {},
   "outputs": [
    {
     "name": "stdout",
     "output_type": "stream",
     "text": [
      "enter last name\n",
      "sabharwal\n"
     ]
    }
   ],
   "source": [
    "print ('enter last name')\n",
    "last_name = input()"
   ]
  },
  {
   "cell_type": "code",
   "execution_count": 14,
   "id": "a48aeda9",
   "metadata": {},
   "outputs": [
    {
     "name": "stdout",
     "output_type": "stream",
     "text": [
      "udit sabharwal\n"
     ]
    }
   ],
   "source": [
    "my_name = (first_name)+' '+(last_name)\n",
    "print (my_name)"
   ]
  },
  {
   "cell_type": "markdown",
   "id": "70a5ff3e",
   "metadata": {},
   "source": [
    "<h3> A bit of math </h3> "
   ]
  },
  {
   "cell_type": "code",
   "execution_count": 24,
   "id": "3daae178",
   "metadata": {},
   "outputs": [
    {
     "name": "stdout",
     "output_type": "stream",
     "text": [
      "Happiness Rating is 3.5\n"
     ]
    }
   ],
   "source": [
    "from statistics import mean \n",
    "list = [ice_cream_rating, sleeping_rating]\n",
    "happiness_rating = mean (list)\n",
    "\n",
    "print ('Happiness Rating is',(happiness_rating))"
   ]
  },
  {
   "cell_type": "markdown",
   "id": "00320aba",
   "metadata": {},
   "source": [
    "<h3> Checking Data Types </h3> "
   ]
  },
  {
   "cell_type": "code",
   "execution_count": 73,
   "id": "5b117bee",
   "metadata": {},
   "outputs": [
    {
     "name": "stdout",
     "output_type": "stream",
     "text": [
      "The type for ice cream rating is\n"
     ]
    },
    {
     "data": {
      "text/plain": [
       "int"
      ]
     },
     "execution_count": 73,
     "metadata": {},
     "output_type": "execute_result"
    }
   ],
   "source": [
    "print ('The type for ice cream rating is') \n",
    "type (ice_cream_rating) \n",
    "\n"
   ]
  },
  {
   "cell_type": "code",
   "execution_count": 72,
   "id": "dd65e422",
   "metadata": {
    "scrolled": true
   },
   "outputs": [
    {
     "name": "stdout",
     "output_type": "stream",
     "text": [
      "The type for first name is\n"
     ]
    },
    {
     "data": {
      "text/plain": [
       "str"
      ]
     },
     "execution_count": 72,
     "metadata": {},
     "output_type": "execute_result"
    }
   ],
   "source": [
    "print ('The type for first name is') \n",
    "type (first_name)"
   ]
  },
  {
   "cell_type": "code",
   "execution_count": 60,
   "id": "de1f9023",
   "metadata": {},
   "outputs": [
    {
     "name": "stdout",
     "output_type": "stream",
     "text": [
      "The type for happiness rating is\n"
     ]
    },
    {
     "data": {
      "text/plain": [
       "float"
      ]
     },
     "execution_count": 60,
     "metadata": {},
     "output_type": "execute_result"
    }
   ],
   "source": [
    "print ('The type for happiness rating is') \n",
    "type (happiness_rating)"
   ]
  },
  {
   "cell_type": "markdown",
   "id": "6a19099c",
   "metadata": {},
   "source": [
    "<h3> Displaying Text on Screen </h3> "
   ]
  },
  {
   "cell_type": "code",
   "execution_count": 101,
   "id": "99b6d006",
   "metadata": {},
   "outputs": [
    {
     "name": "stdout",
     "output_type": "stream",
     "text": [
      "my name is udit sabharwal and I give eating ice cream a score of 2 out of 10!\n",
      "I am udit sabharwal and my sleeping enjoyment rating is 5 / 10!\n",
      "Based on the factors above, my happiness rating is 3.5 out of 10, or 35.0 %\n"
     ]
    }
   ],
   "source": [
    "print ('my name is', (my_name), 'and I give eating ice cream a score of', (ice_cream_rating), 'out of 10!')\n",
    "print ('I am', (my_name), 'and my sleeping enjoyment rating is', (sleeping_rating),'/ 10!')\n",
    "percent = ((happiness_rating)/10)*100\n",
    "print ('Based on the factors above, my happiness rating is', (happiness_rating), 'out of 10, or', (percent), '%')"
   ]
  }
 ],
 "metadata": {
  "kernelspec": {
   "display_name": "Python 3 (ipykernel)",
   "language": "python",
   "name": "python3"
  },
  "language_info": {
   "codemirror_mode": {
    "name": "ipython",
    "version": 3
   },
   "file_extension": ".py",
   "mimetype": "text/x-python",
   "name": "python",
   "nbconvert_exporter": "python",
   "pygments_lexer": "ipython3",
   "version": "3.9.12"
  }
 },
 "nbformat": 4,
 "nbformat_minor": 5
}
